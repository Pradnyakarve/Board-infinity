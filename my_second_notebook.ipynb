{
  "nbformat": 4,
  "nbformat_minor": 0,
  "metadata": {
    "colab": {
      "name": "my second notebook.ipynb",
      "provenance": [],
      "collapsed_sections": [],
      "authorship_tag": "ABX9TyMURU4g5v2Np9f6bCb7+V4n",
      "include_colab_link": true
    },
    "kernelspec": {
      "name": "python3",
      "display_name": "Python 3"
    },
    "accelerator": "GPU"
  },
  "cells": [
    {
      "cell_type": "markdown",
      "metadata": {
        "id": "view-in-github",
        "colab_type": "text"
      },
      "source": [
        "<a href=\"https://colab.research.google.com/github/Pradnyakarve/Board-infinity/blob/master/my_second_notebook.ipynb\" target=\"_parent\"><img src=\"https://colab.research.google.com/assets/colab-badge.svg\" alt=\"Open In Colab\"/></a>"
      ]
    },
    {
      "cell_type": "code",
      "metadata": {
        "id": "neiRHtMFFxVS",
        "colab_type": "code",
        "colab": {}
      },
      "source": [
        ""
      ],
      "execution_count": 0,
      "outputs": []
    },
    {
      "cell_type": "markdown",
      "metadata": {
        "id": "pMvxiWHKGNG_",
        "colab_type": "text"
      },
      "source": [
        "Hello there ! I am Pradnya Karve, an aspiring Business Analyst, I have completed my Bachelors in EXTC Engineering in 2018 with CGPA of 7.13.I have an overall work Experience of 8 months in Life sciences Digital Operations with Cognizant Technology Solutions.\n",
        "My areas of Interest include current happenings around the world,reading newspaper,dancing,debating,comparing.\n",
        "\n"
      ]
    },
    {
      "cell_type": "markdown",
      "metadata": {
        "id": "8TXz8hzlHnzX",
        "colab_type": "text"
      },
      "source": [
        ""
      ]
    },
    {
      "cell_type": "markdown",
      "metadata": {
        "id": "aIbGc9YeIfin",
        "colab_type": "text"
      },
      "source": [
        "Since data scientist is the hottest job of the 21st century, apart from this Data Scientist role would help me to pursue knowledge from different domains since it requires awareness of current happenings around the world. Secondly, Data Scientist are huge in demand but the supply is less so I would like to grab this opportunity to get a high salary package for my personal growth. "
      ]
    },
    {
      "cell_type": "code",
      "metadata": {
        "id": "bLQSc7GTIT68",
        "colab_type": "code",
        "colab": {}
      },
      "source": [
        ""
      ],
      "execution_count": 0,
      "outputs": []
    },
    {
      "cell_type": "code",
      "metadata": {
        "id": "N0tg9-zEKwfZ",
        "colab_type": "code",
        "colab": {}
      },
      "source": [
        "firstname = \"Pradnya\"\n",
        "lastname = \"Karve\"\n",
        "cityname = \"Badlapur\""
      ],
      "execution_count": 0,
      "outputs": []
    },
    {
      "cell_type": "code",
      "metadata": {
        "id": "YxBegDabJ7kS",
        "colab_type": "code",
        "colab": {
          "base_uri": "https://localhost:8080/",
          "height": 35
        },
        "outputId": "b7cd307e-91af-4e33-952b-e8d33ba6ff36"
      },
      "source": [
        "firstname"
      ],
      "execution_count": 4,
      "outputs": [
        {
          "output_type": "execute_result",
          "data": {
            "text/plain": [
              "'Pradnya'"
            ]
          },
          "metadata": {
            "tags": []
          },
          "execution_count": 4
        }
      ]
    },
    {
      "cell_type": "code",
      "metadata": {
        "id": "8m1ViT1rLodi",
        "colab_type": "code",
        "colab": {
          "base_uri": "https://localhost:8080/",
          "height": 35
        },
        "outputId": "ce5784e9-0e91-4afc-8fbc-645ce8e83a41"
      },
      "source": [
        "lastname"
      ],
      "execution_count": 5,
      "outputs": [
        {
          "output_type": "execute_result",
          "data": {
            "text/plain": [
              "'Karve'"
            ]
          },
          "metadata": {
            "tags": []
          },
          "execution_count": 5
        }
      ]
    },
    {
      "cell_type": "code",
      "metadata": {
        "id": "9eMHCnezLt8s",
        "colab_type": "code",
        "colab": {
          "base_uri": "https://localhost:8080/",
          "height": 35
        },
        "outputId": "6308c3ff-b9b5-4072-8673-52572314c5fe"
      },
      "source": [
        "cityname"
      ],
      "execution_count": 6,
      "outputs": [
        {
          "output_type": "execute_result",
          "data": {
            "text/plain": [
              "'Badlapur'"
            ]
          },
          "metadata": {
            "tags": []
          },
          "execution_count": 6
        }
      ]
    },
    {
      "cell_type": "code",
      "metadata": {
        "id": "iURBKWlOLwFM",
        "colab_type": "code",
        "colab": {}
      },
      "source": [
        "age= 24\n",
        "height = 152"
      ],
      "execution_count": 0,
      "outputs": []
    },
    {
      "cell_type": "code",
      "metadata": {
        "id": "i2h-gkn8MFcY",
        "colab_type": "code",
        "colab": {
          "base_uri": "https://localhost:8080/",
          "height": 35
        },
        "outputId": "8e2be655-fe37-4a1e-dff4-6a2e91a53975"
      },
      "source": [
        "age"
      ],
      "execution_count": 8,
      "outputs": [
        {
          "output_type": "execute_result",
          "data": {
            "text/plain": [
              "24"
            ]
          },
          "metadata": {
            "tags": []
          },
          "execution_count": 8
        }
      ]
    },
    {
      "cell_type": "code",
      "metadata": {
        "id": "UkVY6oyZMGis",
        "colab_type": "code",
        "colab": {
          "base_uri": "https://localhost:8080/",
          "height": 35
        },
        "outputId": "cc551327-bf97-4544-c0b9-56c6dfbffa92"
      },
      "source": [
        "height"
      ],
      "execution_count": 9,
      "outputs": [
        {
          "output_type": "execute_result",
          "data": {
            "text/plain": [
              "152"
            ]
          },
          "metadata": {
            "tags": []
          },
          "execution_count": 9
        }
      ]
    },
    {
      "cell_type": "code",
      "metadata": {
        "id": "fhgF7t96MHzv",
        "colab_type": "code",
        "colab": {}
      },
      "source": [
        "tenth_percentage = 89.27 \n",
        "twelve_percentage = 64.33\n"
      ],
      "execution_count": 0,
      "outputs": []
    },
    {
      "cell_type": "code",
      "metadata": {
        "id": "VD-1az-vMVKa",
        "colab_type": "code",
        "colab": {
          "base_uri": "https://localhost:8080/",
          "height": 35
        },
        "outputId": "8831936a-d5d9-4cae-a9fb-4ef29f0c6b51"
      },
      "source": [
        "tenth_percentage"
      ],
      "execution_count": 15,
      "outputs": [
        {
          "output_type": "execute_result",
          "data": {
            "text/plain": [
              "89.27"
            ]
          },
          "metadata": {
            "tags": []
          },
          "execution_count": 15
        }
      ]
    },
    {
      "cell_type": "code",
      "metadata": {
        "id": "2fWorR3ZMs9I",
        "colab_type": "code",
        "colab": {
          "base_uri": "https://localhost:8080/",
          "height": 35
        },
        "outputId": "57400944-2208-4f7b-c678-7e52b99ed45a"
      },
      "source": [
        "twelve_percentage"
      ],
      "execution_count": 16,
      "outputs": [
        {
          "output_type": "execute_result",
          "data": {
            "text/plain": [
              "64.33"
            ]
          },
          "metadata": {
            "tags": []
          },
          "execution_count": 16
        }
      ]
    },
    {
      "cell_type": "code",
      "metadata": {
        "id": "afqV92KYMyeI",
        "colab_type": "code",
        "colab": {}
      },
      "source": [
        "favourite_numbers=[10,100,1000,100.100,200.200]\n"
      ],
      "execution_count": 0,
      "outputs": []
    },
    {
      "cell_type": "code",
      "metadata": {
        "id": "QY0V7HFWNNzX",
        "colab_type": "code",
        "colab": {
          "base_uri": "https://localhost:8080/",
          "height": 35
        },
        "outputId": "4122e577-7aba-4909-f6c2-eb7453ce95cd"
      },
      "source": [
        "favourite_numbers\n"
      ],
      "execution_count": 18,
      "outputs": [
        {
          "output_type": "execute_result",
          "data": {
            "text/plain": [
              "[10, 100, 1000, 100.1, 200.2]"
            ]
          },
          "metadata": {
            "tags": []
          },
          "execution_count": 18
        }
      ]
    },
    {
      "cell_type": "code",
      "metadata": {
        "id": "CcaZd0ViNRXh",
        "colab_type": "code",
        "colab": {}
      },
      "source": [
        "my_friends =[\"Disha\",\"nikita\",\"teju\",\"jayshri\",\"jo\",\"vidya\"]"
      ],
      "execution_count": 0,
      "outputs": []
    },
    {
      "cell_type": "code",
      "metadata": {
        "id": "FofjWb8XNv7b",
        "colab_type": "code",
        "colab": {
          "base_uri": "https://localhost:8080/",
          "height": 35
        },
        "outputId": "38dccc58-f4b0-4a01-8751-b3d72bd4997e"
      },
      "source": [
        "my_friends"
      ],
      "execution_count": 21,
      "outputs": [
        {
          "output_type": "execute_result",
          "data": {
            "text/plain": [
              "['Disha', 'nikita', 'teju', 'jayshri', 'jo', 'vidya']"
            ]
          },
          "metadata": {
            "tags": []
          },
          "execution_count": 21
        }
      ]
    },
    {
      "cell_type": "code",
      "metadata": {
        "id": "OVVidmt7NyI0",
        "colab_type": "code",
        "colab": {
          "base_uri": "https://localhost:8080/",
          "height": 35
        },
        "outputId": "9af8edfa-13a8-4038-f946-d50fc4da2dfb"
      },
      "source": [
        "print(my_friends[0])"
      ],
      "execution_count": 22,
      "outputs": [
        {
          "output_type": "stream",
          "text": [
            "Disha\n"
          ],
          "name": "stdout"
        }
      ]
    },
    {
      "cell_type": "code",
      "metadata": {
        "id": "5vpqVxm_ODEE",
        "colab_type": "code",
        "colab": {
          "base_uri": "https://localhost:8080/",
          "height": 35
        },
        "outputId": "edecb292-2e5c-4072-ff04-73b370487ad2"
      },
      "source": [
        "print(favourite_numbers[-1])"
      ],
      "execution_count": 23,
      "outputs": [
        {
          "output_type": "stream",
          "text": [
            "200.2\n"
          ],
          "name": "stdout"
        }
      ]
    },
    {
      "cell_type": "code",
      "metadata": {
        "id": "8uhUcSvaR1XH",
        "colab_type": "code",
        "colab": {}
      },
      "source": [
        "myself={\"vegetarian\":False}"
      ],
      "execution_count": 0,
      "outputs": []
    },
    {
      "cell_type": "code",
      "metadata": {
        "id": "l_6gF9M-OLgo",
        "colab_type": "code",
        "colab": {}
      },
      "source": [
        "myself={\"DOB\":\"19-feb-1995\",\"favourite color\":\"black\",\"age\":\"24\",\"gender\":\"female\",\"name\":\"Pradnya Karve\",\"favourite song\":\"Senorita\"}"
      ],
      "execution_count": 0,
      "outputs": []
    },
    {
      "cell_type": "code",
      "metadata": {
        "id": "_oWC9jXkRfUC",
        "colab_type": "code",
        "colab": {}
      },
      "source": [
        ""
      ],
      "execution_count": 0,
      "outputs": []
    },
    {
      "cell_type": "code",
      "metadata": {
        "id": "CgM8d932PPyj",
        "colab_type": "code",
        "colab": {
          "base_uri": "https://localhost:8080/",
          "height": 121
        },
        "outputId": "281e3f92-7d9b-475b-bcdb-38d287ad738d"
      },
      "source": [
        "myself\n"
      ],
      "execution_count": 43,
      "outputs": [
        {
          "output_type": "execute_result",
          "data": {
            "text/plain": [
              "{'DOB': '19-feb-1995',\n",
              " 'age': '24',\n",
              " 'favourite color': 'black',\n",
              " 'favourite song': 'Senorita',\n",
              " 'gender': 'female',\n",
              " 'name': 'Pradnya Karve'}"
            ]
          },
          "metadata": {
            "tags": []
          },
          "execution_count": 43
        }
      ]
    },
    {
      "cell_type": "code",
      "metadata": {
        "id": "XdvhbB-BPxNk",
        "colab_type": "code",
        "colab": {
          "base_uri": "https://localhost:8080/",
          "height": 35
        },
        "outputId": "209ec24c-9fbf-4f43-8597-54739c054152"
      },
      "source": [
        "print(myself[\"name\"])"
      ],
      "execution_count": 28,
      "outputs": [
        {
          "output_type": "stream",
          "text": [
            "Pradnya Karve\n"
          ],
          "name": "stdout"
        }
      ]
    },
    {
      "cell_type": "code",
      "metadata": {
        "id": "3BCRT2AgP5Sa",
        "colab_type": "code",
        "colab": {
          "base_uri": "https://localhost:8080/",
          "height": 35
        },
        "outputId": "984e3088-1c75-48c4-9e04-2ffce46295a4"
      },
      "source": [
        "print(myself[\"gender\"])"
      ],
      "execution_count": 30,
      "outputs": [
        {
          "output_type": "stream",
          "text": [
            "female\n"
          ],
          "name": "stdout"
        }
      ]
    },
    {
      "cell_type": "code",
      "metadata": {
        "id": "NiWGSCtcQT2O",
        "colab_type": "code",
        "colab": {}
      },
      "source": [
        "myself[\"vegetarian\"]:\"False\";"
      ],
      "execution_count": 0,
      "outputs": []
    },
    {
      "cell_type": "code",
      "metadata": {
        "id": "aS4ASAXDRF7k",
        "colab_type": "code",
        "colab": {
          "base_uri": "https://localhost:8080/",
          "height": 121
        },
        "outputId": "a6e8a876-aa1b-4367-f74c-b4c0873bc39f"
      },
      "source": [
        "myself"
      ],
      "execution_count": 47,
      "outputs": [
        {
          "output_type": "execute_result",
          "data": {
            "text/plain": [
              "{'DOB': '19-feb-1995',\n",
              " 'age': '24',\n",
              " 'favourite color': 'black',\n",
              " 'favourite song': 'Senorita',\n",
              " 'gender': 'female',\n",
              " 'name': 'Pradnya Karve'}"
            ]
          },
          "metadata": {
            "tags": []
          },
          "execution_count": 47
        }
      ]
    },
    {
      "cell_type": "code",
      "metadata": {
        "id": "cWUcI9aURIPI",
        "colab_type": "code",
        "colab": {
          "base_uri": "https://localhost:8080/",
          "height": 166
        },
        "outputId": "879bc96c-ff84-4681-dc28-002e865b61b0"
      },
      "source": [
        "myself.upadate({\"vegetarian\":false})"
      ],
      "execution_count": 48,
      "outputs": [
        {
          "output_type": "error",
          "ename": "AttributeError",
          "evalue": "ignored",
          "traceback": [
            "\u001b[0;31m---------------------------------------------------------------------------\u001b[0m",
            "\u001b[0;31mAttributeError\u001b[0m                            Traceback (most recent call last)",
            "\u001b[0;32m<ipython-input-48-15474d41a943>\u001b[0m in \u001b[0;36m<module>\u001b[0;34m()\u001b[0m\n\u001b[0;32m----> 1\u001b[0;31m \u001b[0mmyself\u001b[0m\u001b[0;34m.\u001b[0m\u001b[0mupadate\u001b[0m\u001b[0;34m(\u001b[0m\u001b[0;34m{\u001b[0m\u001b[0;34m\"vegetarian\"\u001b[0m\u001b[0;34m:\u001b[0m\u001b[0mfalse\u001b[0m\u001b[0;34m}\u001b[0m\u001b[0;34m)\u001b[0m\u001b[0;34m\u001b[0m\u001b[0;34m\u001b[0m\u001b[0m\n\u001b[0m",
            "\u001b[0;31mAttributeError\u001b[0m: 'dict' object has no attribute 'upadate'"
          ]
        }
      ]
    },
    {
      "cell_type": "code",
      "metadata": {
        "id": "xyc7iLq8SwQC",
        "colab_type": "code",
        "colab": {
          "base_uri": "https://localhost:8080/",
          "height": 121
        },
        "outputId": "d6ffe62e-19d3-4f32-de77-d3adc186d286"
      },
      "source": [
        "myself"
      ],
      "execution_count": 49,
      "outputs": [
        {
          "output_type": "execute_result",
          "data": {
            "text/plain": [
              "{'DOB': '19-feb-1995',\n",
              " 'age': '24',\n",
              " 'favourite color': 'black',\n",
              " 'favourite song': 'Senorita',\n",
              " 'gender': 'female',\n",
              " 'name': 'Pradnya Karve'}"
            ]
          },
          "metadata": {
            "tags": []
          },
          "execution_count": 49
        }
      ]
    },
    {
      "cell_type": "code",
      "metadata": {
        "id": "4lxlNiQSSydV",
        "colab_type": "code",
        "colab": {}
      },
      "source": [
        "myself[\"vegatarian\"]=False"
      ],
      "execution_count": 0,
      "outputs": []
    },
    {
      "cell_type": "code",
      "metadata": {
        "id": "CXMbz1VsTCrX",
        "colab_type": "code",
        "colab": {
          "base_uri": "https://localhost:8080/",
          "height": 139
        },
        "outputId": "ccd08ed7-07f0-4a09-bcfe-9d480646c6fb"
      },
      "source": [
        "myself"
      ],
      "execution_count": 51,
      "outputs": [
        {
          "output_type": "execute_result",
          "data": {
            "text/plain": [
              "{'DOB': '19-feb-1995',\n",
              " 'age': '24',\n",
              " 'favourite color': 'black',\n",
              " 'favourite song': 'Senorita',\n",
              " 'gender': 'female',\n",
              " 'name': 'Pradnya Karve',\n",
              " 'vegatarian': False}"
            ]
          },
          "metadata": {
            "tags": []
          },
          "execution_count": 51
        }
      ]
    },
    {
      "cell_type": "code",
      "metadata": {
        "id": "WR4zsadpTET4",
        "colab_type": "code",
        "colab": {}
      },
      "source": [
        ""
      ],
      "execution_count": 0,
      "outputs": []
    }
  ]
}